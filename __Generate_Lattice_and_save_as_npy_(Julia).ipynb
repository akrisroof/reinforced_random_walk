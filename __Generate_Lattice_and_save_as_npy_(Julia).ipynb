{
 "cells": [
  {
   "cell_type": "code",
   "execution_count": 11,
   "metadata": {},
   "outputs": [
    {
     "ename": "LoadError",
     "evalue": "syntax: extra token \")\" after end of expression",
     "output_type": "error",
     "traceback": [
      "syntax: extra token \")\" after end of expression",
      ""
     ]
    }
   ],
   "source": [
    "using Plots\n",
    "using NPZ\n",
    "import Distributions; dst = Distributions\n",
    "import DataStructures\n",
    "\n",
    "struct Lattice\n",
    "    memory::Dict{Tuple{Int16,Int16,Int16},Int16})\n",
    "    neib::Tuple\n",
    "end\n",
    "\n",
    "function Lattice(lattice::Lattice, key::Tuple, value)\n",
    "    lattice.memory[key] = value\n",
    "end\n",
    "\n",
    "function Lattice(lattice::Lattice, key::Tuple)\n",
    "    if ~haskey(lattice.memory, key)\n",
    "        lattice.memory[key] = 1\n",
    "    end\n",
    "    return lattice.memory[key]\n",
    "end\n",
    "\n",
    "function Lattice()\n",
    "    return Lattice(Dict((0,0,0)=>0), (\n",
    "        ( 1, 0, 0), \n",
    "        ( 0, 1, 0), \n",
    "        ( 0, 0, 1), \n",
    "        (-1, 0, 0), \n",
    "        ( 0,-1, 0), \n",
    "        ( 0, 0,-1)))\n",
    "end\n",
    "\n",
    "function len(lattice::Lattice)\n",
    "    return length(lattice.memory)\n",
    "end\n",
    "\n",
    "function Neib(lattice::Lattice, position::Tuple)\n",
    "    return [Lattice(lattice, position .+ neib_node) for neib_node in lattice.neib]\n",
    "end\n",
    "\n",
    "function Update!(lattice::Lattice, position::Tuple)\n",
    "    for neib_node in lattice.neib\n",
    "        if Lattice(lattice, position .+ neib_node) != 0\n",
    "            temp = Neib(lattice, position .+ neib_node)\n",
    "            if sum(temp .== 1) < length(temp)\n",
    "                Lattice(lattice, position .+ neib_node, sum(temp .== 0)+1)\n",
    "            end\n",
    "        end\n",
    "    end\n",
    "    Lattice(lattice, position,0)\n",
    "end\n",
    "\n",
    "function Next(lattice, position)\n",
    "    Update!(lattice, position)\n",
    "end\n",
    "\n",
    "   \n",
    "\n",
    "function InitSim()\n",
    "    lattice = Lattice()\n",
    "    pos = (0,0,0)\n",
    "    Lattice(lattice, pos, 0)\n",
    "    for neib in lattice.neib\n",
    "        Lattice(lattice, pos .+ neib, Lattice(lattice, pos .+ neib) + 1)\n",
    "    end\n",
    "    lattice_weigths = [Lattice(lattice, pos .+ neib) for neib in lattice.neib]\n",
    "    weigths = Ω.(lattice_weigths; a=4, b=2)\n",
    "    probs = weigths ./ sum(weigths)\n",
    "    return lattice, probs, pos\n",
    "end\n",
    "\n",
    "function Update!(lattice, probs, pos, aa, bb)\n",
    "    step = lattice.neib[rand(dst.Categorical(probs))]\n",
    "    if Lattice(lattice, pos .+ step) == 0\n",
    "        pos = pos .+ step\n",
    "        lattice_weigths = [Lattice(lattice, pos .+ neib) for neib in lattice.neib]\n",
    "        weigths = Ω.(lattice_weigths; a=aa, b=bb)\n",
    "        probs = weigths ./ sum(weigths)\n",
    "    else\n",
    "        pos = pos .+ step\n",
    "        Lattice(lattice, pos, 0)\n",
    "        for neib in lattice.neib\n",
    "            if Lattice(lattice, pos .+ neib) != 0\n",
    "                Lattice(lattice, pos .+ neib, Lattice(lattice, pos .+ neib) + 1)\n",
    "            end\n",
    "        end\n",
    "        lattice_weigths = [Lattice(lattice, pos .+ neib) for neib in lattice.neib]\n",
    "        weigths = Ω.(lattice_weigths; a=aa, b=bb)\n",
    "        probs = weigths ./ sum(weigths)    \n",
    "    end\n",
    "    return probs, pos\n",
    "end\n",
    "\n",
    "\n",
    "const aa = exp(3.5)\n",
    "const bb = exp(2)\n",
    "lattice, probs, pos = InitSim()\n",
    "len_lattice = len(lattice)\n",
    "count = 0\n",
    "\n",
    "idx = 0\n",
    "while len(lattice) < 100\n",
    "    global probs\n",
    "    global pos\n",
    "    global len_lattice, idx\n",
    "    probs, pos = Update!(lattice, probs, pos, aa, bb)\n",
    "    if len(lattice) > len_lattice \n",
    "        len_lattice = len(lattice)\n",
    "        idx += 1\n",
    "        if idx % 100 == 0\n",
    "            println(len_lattice)\n",
    "        end\n",
    "    end \n",
    "end"
   ]
  },
  {
   "cell_type": "code",
   "execution_count": 20,
   "metadata": {},
   "outputs": [
    {
     "data": {
      "text/plain": [
       "2.0f0"
      ]
     },
     "execution_count": 20,
     "metadata": {},
     "output_type": "execute_result"
    }
   ],
   "source": [
    "2.0f0"
   ]
  },
  {
   "cell_type": "code",
   "execution_count": 18,
   "metadata": {},
   "outputs": [
    {
     "data": {
      "text/plain": [
       "1.0f0"
      ]
     },
     "execution_count": 18,
     "metadata": {},
     "output_type": "execute_result"
    }
   ],
   "source": [
    "one(Float32)"
   ]
  },
  {
   "cell_type": "code",
   "execution_count": 21,
   "metadata": {},
   "outputs": [
    {
     "data": {
      "text/plain": [
       "Ω (generic function with 1 method)"
      ]
     },
     "execution_count": 21,
     "metadata": {},
     "output_type": "execute_result"
    }
   ],
   "source": [
    "function Ω(x::Int16; a::Float32=1.0f0, b::Float32=1.0f0)\n",
    "    \"\"\"\n",
    "    # Отображаем lattice_weigths в weigths используя параметры a и b\n",
    "    0 => a\n",
    "    2 => 1\n",
    "    3:7 => b\n",
    "    \"\"\"\n",
    "    if x == Int16(1)\n",
    "        return a\n",
    "    elseif x == Int16(2)\n",
    "        return 1.0f0\n",
    "    else\n",
    "        return b\n",
    "    end\n",
    "end "
   ]
  },
  {
   "cell_type": "code",
   "execution_count": 22,
   "metadata": {},
   "outputs": [
    {
     "data": {
      "text/plain": [
       "InitSim (generic function with 1 method)"
      ]
     },
     "execution_count": 22,
     "metadata": {},
     "output_type": "execute_result"
    }
   ],
   "source": [
    "function InitSim()\n",
    "    lattice = Lattice()\n",
    "    for neib in lattice.neib\n",
    "        Lattice(lattice, pos .+ neib, Lattice(lattice, pos .+ neib) + 1)\n",
    "    end\n",
    "    lattice_weigths = [Lattice(lattice, pos .+ neib) for neib in lattice.neib]\n",
    "    weigths = Ω.(lattice_weigths; a=4, b=2)\n",
    "    probs = weigths ./ sum(weigths)\n",
    "    return lattice, probs, pos\n",
    "end"
   ]
  },
  {
   "cell_type": "code",
   "execution_count": null,
   "metadata": {},
   "outputs": [],
   "source": [
    "const aa = exp(3.5)\n",
    "const bb = exp(2)\n",
    "lattice, probs, pos = InitSim()\n",
    "len_lattice = len(lattice)\n",
    "count = 0\n",
    "\n",
    "idx = 0\n",
    "while len(lattice) < 100\n",
    "    global probs\n",
    "    global pos\n",
    "    global len_lattice, idx\n",
    "    probs, pos = Update!(lattice, probs, pos, aa, bb)\n",
    "    if len(lattice) > len_lattice \n",
    "        len_lattice = len(lattice)\n",
    "        idx += 1\n",
    "        if idx % 100 == 0\n",
    "            println(len_lattice)\n",
    "        end\n",
    "    end \n",
    "end"
   ]
  },
  {
   "cell_type": "code",
   "execution_count": 23,
   "metadata": {},
   "outputs": [
    {
     "name": "stdout",
     "output_type": "stream",
     "text": [
      "\n",
      ";  @ In[22]:2 within `InitSim'\n",
      "; Function Attrs: noreturn uwtable\n",
      "define void @julia_InitSim_18002() #0 {\n",
      "top:\n",
      "  %0 = call nonnull %jl_value_t addrspace(10)* @jl_apply_generic(%jl_value_t addrspace(10)* addrspacecast (%jl_value_t* inttoptr (i64 317903472 to %jl_value_t*) to %jl_value_t addrspace(10)*), %jl_value_t addrspace(10)** null, i32 0)\n",
      "  call void @llvm.trap()\n",
      "  unreachable\n",
      "}\n"
     ]
    }
   ],
   "source": [
    "@code_llvm InitSim()"
   ]
  },
  {
   "cell_type": "code",
   "execution_count": 16,
   "metadata": {},
   "outputs": [
    {
     "data": {
      "text/plain": [
       "\";  @ In[12]:2 within `InitSim'\\n; Function Attrs: noreturn uwtable\\ndefine void @julia_InitSim_17856() #0 {\\ntop:\\n  %0 = call nonnull %jl_value_t addrspace(10)* @jl_apply_generic(%jl_value_t addrspace(10)* addrspacecast (%jl_value_t* inttoptr (i64 317903472 to %jl_value_t*) to %jl_value_t addrspace(10)*), %jl_value_t addrspace(10)** null, i32 0)\\n  call void @llvm.trap()\\n  unreachable\\n}\\n\""
      ]
     },
     "execution_count": 16,
     "metadata": {},
     "output_type": "execute_result"
    }
   ],
   "source": [
    "\"\"\"\n",
    ";  @ In[12]:2 within `InitSim'\n",
    "; Function Attrs: noreturn uwtable\n",
    "define void @julia_InitSim_17856() #0 {\n",
    "top:\n",
    "  %0 = call nonnull %jl_value_t addrspace(10)* @jl_apply_generic(%jl_value_t addrspace(10)* addrspacecast (%jl_value_t* inttoptr (i64 317903472 to %jl_value_t*) to %jl_value_t addrspace(10)*), %jl_value_t addrspace(10)** null, i32 0)\n",
    "  call void @llvm.trap()\n",
    "  unreachable\n",
    "}\n",
    "\"\"\""
   ]
  },
  {
   "cell_type": "code",
   "execution_count": 4,
   "metadata": {},
   "outputs": [
    {
     "data": {
      "text/plain": [
       "Lattice"
      ]
     },
     "execution_count": 4,
     "metadata": {},
     "output_type": "execute_result"
    }
   ],
   "source": [
    "function Lattice()\n",
    "    return Lattice(Dict((0,0,0)=>0), (\n",
    "        ( 1, 0, 0), \n",
    "        ( 0, 1, 0), \n",
    "        ( 0, 0, 1), \n",
    "        (-1, 0, 0), \n",
    "        ( 0,-1, 0), \n",
    "        ( 0, 0,-1)))\n",
    "end"
   ]
  },
  {
   "cell_type": "code",
   "execution_count": 5,
   "metadata": {},
   "outputs": [],
   "source": [
    "npzwrite(\"res.npy\", res)"
   ]
  },
  {
   "cell_type": "code",
   "execution_count": 1,
   "metadata": {},
   "outputs": [],
   "source": [
    "struct Lattice\n",
    "    memory::Dict{Tuple{Int16,Int16,Int16},Int16}\n",
    "    neib::Tuple{Tuple{Int16,Int16,Int16},\n",
    "    Tuple{Int16,Int16,Int16},\n",
    "    Tuple{Int16,Int16,Int16},\n",
    "    Tuple{Int16,Int16,Int16},\n",
    "    Tuple{Int16,Int16,Int16},\n",
    "    Tuple{Int16,Int16,Int16}}\n",
    "end"
   ]
  },
  {
   "cell_type": "code",
   "execution_count": 8,
   "metadata": {},
   "outputs": [
    {
     "data": {
      "text/plain": [
       "CodeInfo(\n",
       "\u001b[90m1 ─\u001b[39m %1 = %new(Main.Lattice, memory, neib)\n",
       "\u001b[90m└──\u001b[39m      return %1\n",
       ")"
      ]
     },
     "execution_count": 8,
     "metadata": {},
     "output_type": "execute_result"
    }
   ],
   "source": [
    "const n0 = zero(Int16)\n",
    "const n1 = one(Int16)\n",
    "@code_lowered Lattice(\n",
    "    Dict((n0,n0,n0)=>n0), \n",
    "    (\n",
    "        ( n1, n0, n0), \n",
    "        ( n0, n1, n0), \n",
    "        ( n0, n0, n1), \n",
    "        ( -n1, n0, n0),  \n",
    "        ( n0, -n1, n0),  \n",
    "        ( n0, n0, -n1), \n",
    "    )\n",
    ")"
   ]
  },
  {
   "cell_type": "code",
   "execution_count": 7,
   "metadata": {},
   "outputs": [
    {
     "ename": "ErrorException",
     "evalue": "expression is not a function call, or is too complex for @code_llvm to analyze; break it down to simpler parts if possible",
     "output_type": "error",
     "traceback": [
      "expression is not a function call, or is too complex for @code_llvm to analyze; break it down to simpler parts if possible",
      "",
      "Stacktrace:",
      " [1] error(::String) at .\\error.jl:33",
      " [2] top-level scope at In[7]:1"
     ]
    }
   ],
   "source": [
    "@code_llvm x::Int16 = 1;"
   ]
  },
  {
   "cell_type": "code",
   "execution_count": 10,
   "metadata": {},
   "outputs": [
    {
     "data": {
      "text/plain": [
       "Int16"
      ]
     },
     "execution_count": 10,
     "metadata": {},
     "output_type": "execute_result"
    }
   ],
   "source": [
    "zero(Int16)"
   ]
  },
  {
   "cell_type": "code",
   "execution_count": 12,
   "metadata": {},
   "outputs": [
    {
     "data": {
      "text/plain": [
       "Int16"
      ]
     },
     "execution_count": 12,
     "metadata": {},
     "output_type": "execute_result"
    }
   ],
   "source": [
    "typeof(-one(Int16))"
   ]
  },
  {
   "cell_type": "code",
   "execution_count": 6,
   "metadata": {},
   "outputs": [
    {
     "name": "stdout",
     "output_type": "stream",
     "text": [
      "\n",
      ";  @ In[4]:2 within `Lattice'\n",
      "; Function Attrs: noreturn uwtable\n",
      "define nonnull %jl_value_t addrspace(10)* @japi1_Lattice_17435(%jl_value_t addrspace(10)*, %jl_value_t addrspace(10)**, i32) #0 {\n",
      "top:\n",
      "  %gcframe = alloca %jl_value_t addrspace(10)*, i32 3\n",
      "  %3 = bitcast %jl_value_t addrspace(10)** %gcframe to i8*\n",
      "  call void @llvm.memset.p0i8.i32(i8* %3, i8 0, i32 24, i32 0, i1 false)\n",
      "  %4 = alloca %jl_value_t addrspace(10)**, align 8\n",
      "  store volatile %jl_value_t addrspace(10)** %1, %jl_value_t addrspace(10)*** %4, align 8\n",
      "  %5 = call %jl_value_t*** inttoptr (i64 1720369504 to %jl_value_t*** ()*)() #6\n",
      "; ┌ @ dict.jl:123 within `Dict' @ dict.jl:101\n",
      "   %6 = getelementptr %jl_value_t addrspace(10)*, %jl_value_t addrspace(10)** %gcframe, i32 0\n",
      "   %7 = bitcast %jl_value_t addrspace(10)** %6 to i64*\n",
      "   store i64 2, i64* %7\n",
      "   %8 = getelementptr %jl_value_t**, %jl_value_t*** %5, i32 0\n",
      "   %9 = getelementptr %jl_value_t addrspace(10)*, %jl_value_t addrspace(10)** %gcframe, i32 1\n",
      "   %10 = bitcast %jl_value_t addrspace(10)** %9 to %jl_value_t***\n",
      "   %11 = load %jl_value_t**, %jl_value_t*** %8\n",
      "   store %jl_value_t** %11, %jl_value_t*** %10\n",
      "   %12 = bitcast %jl_value_t*** %8 to %jl_value_t addrspace(10)***\n",
      "   store %jl_value_t addrspace(10)** %gcframe, %jl_value_t addrspace(10)*** %12\n",
      "   %13 = call nonnull %jl_value_t addrspace(10)* @japi1_Dict_17436(%jl_value_t addrspace(10)* addrspacecast (%jl_value_t* inttoptr (i64 295642992 to %jl_value_t*) to %jl_value_t addrspace(10)*), %jl_value_t addrspace(10)** null, i32 0)\n",
      "   %14 = getelementptr %jl_value_t addrspace(10)*, %jl_value_t addrspace(10)** %gcframe, i32 2\n",
      "   store %jl_value_t addrspace(10)* %13, %jl_value_t addrspace(10)** %14\n",
      "; │ @ dict.jl:123 within `Dict' @ dict.jl:103\n",
      "   %15 = call nonnull %jl_value_t addrspace(10)* @\"julia_setindex!_17437\"(%jl_value_t addrspace(10)* nonnull %13, i64 0, [3 x i64] addrspace(11)* nocapture readonly addrspacecast ([3 x i64]* @0 to [3 x i64] addrspace(11)*))\n",
      "; └\n",
      "  call void @julia_Lattice_17442(%jl_value_t addrspace(10)* addrspacecast (%jl_value_t* inttoptr (i64 317574448 to %jl_value_t*) to %jl_value_t addrspace(10)*), %jl_value_t addrspace(10)* nonnull %13, [6 x [3 x i64]] addrspace(11)* nocapture readonly addrspacecast ([6 x [3 x i64]]* @1 to [6 x [3 x i64]] addrspace(11)*))\n",
      "  call void @llvm.trap()\n",
      "  unreachable\n",
      "}\n"
     ]
    }
   ],
   "source": [
    "@code_llvm Lattice()"
   ]
  },
  {
   "cell_type": "code",
   "execution_count": 11,
   "metadata": {},
   "outputs": [],
   "source": [
    "using Profile"
   ]
  },
  {
   "cell_type": "code",
   "execution_count": 14,
   "metadata": {},
   "outputs": [
    {
     "data": {
      "text/plain": [
       "0"
      ]
     },
     "execution_count": 14,
     "metadata": {},
     "output_type": "execute_result"
    }
   ],
   "source": [
    "Profile.@profile Update!(Lattice(), (1,0,0))"
   ]
  },
  {
   "cell_type": "code",
   "execution_count": 15,
   "metadata": {},
   "outputs": [],
   "source": [
    "using BenchmarkTools"
   ]
  },
  {
   "cell_type": "code",
   "execution_count": null,
   "metadata": {},
   "outputs": [],
   "source": [
    "aa = exp(3.5)\n",
    "bb = exp(2)\n",
    "lattice, probs, pos = InitSim()\n",
    "len_lattice = len(lattice)\n",
    "count = 0\n",
    "\n",
    "idx = 0\n",
    "len_lattice = len(lattice)\n",
    "while len(lattice) < 1000000\n",
    "    global probs\n",
    "    global pos\n",
    "    global len_lattice, idx\n",
    "    probs, pos = Update!(lattice, probs, pos, aa, bb)\n",
    "    if len(lattice) > len_lattice \n",
    "        len_lattice = len(lattice)\n",
    "        idx += 1\n",
    "        if idx % 100 == 0\n",
    "            println(len_lattice)\n",
    "        end\n",
    "    end \n",
    "end"
   ]
  },
  {
   "cell_type": "code",
   "execution_count": 23,
   "metadata": {},
   "outputs": [
    {
     "ename": "LoadError",
     "evalue": "syntax: invalid \"do\" syntax",
     "output_type": "error",
     "traceback": [
      "syntax: invalid \"do\" syntax",
      ""
     ]
    }
   ],
   "source": [
    "@benchmark \n",
    "    aa = exp(3.5)\n",
    "    bb = exp(2)\n",
    "    lattice, probs, pos = InitSim()\n",
    "    len_lattice = len(lattice)\n",
    "    count = 0\n",
    "\n",
    "    idx = 0\n",
    "    len_lattice = len(lattice)\n",
    "    while len(lattice) < 100\n",
    "        global probs\n",
    "        global pos\n",
    "        global len_lattice, idx\n",
    "        probs, pos = Update!(lattice, probs, pos, aa, bb)\n",
    "        if len(lattice) > len_lattice \n",
    "            len_lattice = len(lattice)\n",
    "            idx += 1\n",
    "            if idx % 100 == 0\n",
    "                println(len_lattice)\n",
    "            end\n",
    "        end \n",
    "    end\n",
    "end"
   ]
  },
  {
   "cell_type": "code",
   "execution_count": null,
   "metadata": {},
   "outputs": [],
   "source": []
  }
 ],
 "metadata": {
  "kernelspec": {
   "display_name": "Julia 1.3.0",
   "language": "julia",
   "name": "julia-1.3"
  },
  "language_info": {
   "file_extension": ".jl",
   "mimetype": "application/julia",
   "name": "julia",
   "version": "1.3.0"
  }
 },
 "nbformat": 4,
 "nbformat_minor": 2
}
