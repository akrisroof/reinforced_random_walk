{
 "cells": [
  {
   "cell_type": "code",
   "execution_count": 1,
   "metadata": {},
   "outputs": [],
   "source": [
    "import numpy as np"
   ]
  },
  {
   "cell_type": "code",
   "execution_count": 2,
   "metadata": {},
   "outputs": [],
   "source": [
    "validation_images_X = np.load('validation_images_X.npy')"
   ]
  },
  {
   "cell_type": "code",
   "execution_count": 3,
   "metadata": {},
   "outputs": [
    {
     "name": "stderr",
     "output_type": "stream",
     "text": [
      "Using TensorFlow backend.\n"
     ]
    },
    {
     "name": "stdout",
     "output_type": "stream",
     "text": [
      "WARNING:tensorflow:From C:\\deeplearning\\envs\\PythonGPU\\lib\\site-packages\\tensorflow\\python\\ops\\math_grad.py:1250: add_dispatch_support.<locals>.wrapper (from tensorflow.python.ops.array_ops) is deprecated and will be removed in a future version.\n",
      "Instructions for updating:\n",
      "Use tf.where in 2.0, which has the same broadcast rule as np.where\n",
      "WARNING:tensorflow:From C:\\deeplearning\\envs\\PythonGPU\\lib\\site-packages\\keras\\backend\\tensorflow_backend.py:422: The name tf.global_variables is deprecated. Please use tf.compat.v1.global_variables instead.\n",
      "\n"
     ]
    }
   ],
   "source": [
    "from keras.models import load_model\n",
    "\n",
    "model = load_model('saved_models/phase_diagram_58_ResNet32v1_model.083.h5')"
   ]
  },
  {
   "cell_type": "code",
   "execution_count": 4,
   "metadata": {},
   "outputs": [],
   "source": [
    "validation_prediction = model.predict(validation_images_X)"
   ]
  },
  {
   "cell_type": "code",
   "execution_count": 5,
   "metadata": {
    "scrolled": false
   },
   "outputs": [
    {
     "name": "stdout",
     "output_type": "stream",
     "text": [
      "Model: \"model_68\"\n",
      "_________________________________________________________________\n",
      "Layer (type)                 Output Shape              Param #   \n",
      "=================================================================\n",
      "input_76 (InputLayer)        (None, 160, 160, 1)       0         \n",
      "_________________________________________________________________\n",
      "conv2d_824 (Conv2D)          (None, 160, 160, 16)      32        \n",
      "_________________________________________________________________\n",
      "conv2d_825 (Conv2D)          (None, 78, 78, 128)       73856     \n",
      "_________________________________________________________________\n",
      "leaky_re_lu_382 (LeakyReLU)  (None, 78, 78, 128)       0         \n",
      "_________________________________________________________________\n",
      "dropout_146 (Dropout)        (None, 78, 78, 128)       0         \n",
      "_________________________________________________________________\n",
      "batch_normalization_201 (Bat (None, 78, 78, 128)       512       \n",
      "_________________________________________________________________\n",
      "conv2d_826 (Conv2D)          (None, 76, 76, 64)        73792     \n",
      "_________________________________________________________________\n",
      "leaky_re_lu_383 (LeakyReLU)  (None, 76, 76, 64)        0         \n",
      "_________________________________________________________________\n",
      "dropout_147 (Dropout)        (None, 76, 76, 64)        0         \n",
      "_________________________________________________________________\n",
      "batch_normalization_202 (Bat (None, 76, 76, 64)        256       \n",
      "_________________________________________________________________\n",
      "conv2d_827 (Conv2D)          (None, 74, 74, 64)        36928     \n",
      "_________________________________________________________________\n",
      "leaky_re_lu_384 (LeakyReLU)  (None, 74, 74, 64)        0         \n",
      "_________________________________________________________________\n",
      "dropout_148 (Dropout)        (None, 74, 74, 64)        0         \n",
      "_________________________________________________________________\n",
      "batch_normalization_203 (Bat (None, 74, 74, 64)        256       \n",
      "_________________________________________________________________\n",
      "conv2d_828 (Conv2D)          (None, 35, 35, 64)        147520    \n",
      "_________________________________________________________________\n",
      "leaky_re_lu_385 (LeakyReLU)  (None, 35, 35, 64)        0         \n",
      "_________________________________________________________________\n",
      "dropout_149 (Dropout)        (None, 35, 35, 64)        0         \n",
      "_________________________________________________________________\n",
      "batch_normalization_204 (Bat (None, 35, 35, 64)        256       \n",
      "_________________________________________________________________\n",
      "conv2d_829 (Conv2D)          (None, 33, 33, 64)        36928     \n",
      "_________________________________________________________________\n",
      "leaky_re_lu_386 (LeakyReLU)  (None, 33, 33, 64)        0         \n",
      "_________________________________________________________________\n",
      "dropout_150 (Dropout)        (None, 33, 33, 64)        0         \n",
      "_________________________________________________________________\n",
      "batch_normalization_205 (Bat (None, 33, 33, 64)        256       \n",
      "_________________________________________________________________\n",
      "conv2d_830 (Conv2D)          (None, 31, 31, 64)        36928     \n",
      "_________________________________________________________________\n",
      "leaky_re_lu_387 (LeakyReLU)  (None, 31, 31, 64)        0         \n",
      "_________________________________________________________________\n",
      "dropout_151 (Dropout)        (None, 31, 31, 64)        0         \n",
      "_________________________________________________________________\n",
      "batch_normalization_206 (Bat (None, 31, 31, 64)        256       \n",
      "_________________________________________________________________\n",
      "conv2d_831 (Conv2D)          (None, 13, 13, 64)        147520    \n",
      "_________________________________________________________________\n",
      "leaky_re_lu_388 (LeakyReLU)  (None, 13, 13, 64)        0         \n",
      "_________________________________________________________________\n",
      "dropout_152 (Dropout)        (None, 13, 13, 64)        0         \n",
      "_________________________________________________________________\n",
      "batch_normalization_207 (Bat (None, 13, 13, 64)        256       \n",
      "_________________________________________________________________\n",
      "conv2d_832 (Conv2D)          (None, 11, 11, 64)        36928     \n",
      "_________________________________________________________________\n",
      "leaky_re_lu_389 (LeakyReLU)  (None, 11, 11, 64)        0         \n",
      "_________________________________________________________________\n",
      "dropout_153 (Dropout)        (None, 11, 11, 64)        0         \n",
      "_________________________________________________________________\n",
      "batch_normalization_208 (Bat (None, 11, 11, 64)        256       \n",
      "_________________________________________________________________\n",
      "conv2d_833 (Conv2D)          (None, 9, 9, 64)          36928     \n",
      "_________________________________________________________________\n",
      "leaky_re_lu_390 (LeakyReLU)  (None, 9, 9, 64)          0         \n",
      "_________________________________________________________________\n",
      "dropout_154 (Dropout)        (None, 9, 9, 64)          0         \n",
      "_________________________________________________________________\n",
      "batch_normalization_209 (Bat (None, 9, 9, 64)          256       \n",
      "_________________________________________________________________\n",
      "conv2d_834 (Conv2D)          (None, 8, 8, 26)          6682      \n",
      "_________________________________________________________________\n",
      "leaky_re_lu_391 (LeakyReLU)  (None, 8, 8, 26)          0         \n",
      "_________________________________________________________________\n",
      "dropout_155 (Dropout)        (None, 8, 8, 26)          0         \n",
      "_________________________________________________________________\n",
      "conv2d_835 (Conv2D)          (None, 8, 8, 26)          2730      \n",
      "_________________________________________________________________\n",
      "leaky_re_lu_392 (LeakyReLU)  (None, 8, 8, 26)          0         \n",
      "_________________________________________________________________\n",
      "dropout_156 (Dropout)        (None, 8, 8, 26)          0         \n",
      "_________________________________________________________________\n",
      "conv2d_836 (Conv2D)          (None, 8, 8, 26)          2730      \n",
      "_________________________________________________________________\n",
      "leaky_re_lu_393 (LeakyReLU)  (None, 8, 8, 26)          0         \n",
      "_________________________________________________________________\n",
      "dropout_157 (Dropout)        (None, 8, 8, 26)          0         \n",
      "_________________________________________________________________\n",
      "conv2d_837 (Conv2D)          (None, 8, 8, 26)          2730      \n",
      "_________________________________________________________________\n",
      "leaky_re_lu_394 (LeakyReLU)  (None, 8, 8, 26)          0         \n",
      "_________________________________________________________________\n",
      "dropout_158 (Dropout)        (None, 8, 8, 26)          0         \n",
      "_________________________________________________________________\n",
      "conv2d_838 (Conv2D)          (None, 8, 8, 26)          2730      \n",
      "_________________________________________________________________\n",
      "leaky_re_lu_395 (LeakyReLU)  (None, 8, 8, 26)          0         \n",
      "_________________________________________________________________\n",
      "dropout_159 (Dropout)        (None, 8, 8, 26)          0         \n",
      "_________________________________________________________________\n",
      "conv2d_839 (Conv2D)          (None, 8, 8, 26)          2730      \n",
      "_________________________________________________________________\n",
      "leaky_re_lu_396 (LeakyReLU)  (None, 8, 8, 26)          0         \n",
      "_________________________________________________________________\n",
      "dropout_160 (Dropout)        (None, 8, 8, 26)          0         \n",
      "_________________________________________________________________\n",
      "conv2d_840 (Conv2D)          (None, 8, 8, 26)          2730      \n",
      "_________________________________________________________________\n",
      "flatten_32 (Flatten)         (None, 1664)              0         \n",
      "=================================================================\n",
      "Total params: 652,982\n",
      "Trainable params: 651,702\n",
      "Non-trainable params: 1,280\n",
      "_________________________________________________________________\n"
     ]
    }
   ],
   "source": [
    "model.summary()"
   ]
  },
  {
   "cell_type": "code",
   "execution_count": 6,
   "metadata": {},
   "outputs": [],
   "source": [
    "weigths = model.get_weights()"
   ]
  },
  {
   "cell_type": "code",
   "execution_count": 8,
   "metadata": {},
   "outputs": [
    {
     "data": {
      "text/plain": [
       "(1, 1, 1, 16)"
      ]
     },
     "execution_count": 8,
     "metadata": {},
     "output_type": "execute_result"
    }
   ],
   "source": [
    "weigths[0].shape"
   ]
  },
  {
   "cell_type": "code",
   "execution_count": 10,
   "metadata": {},
   "outputs": [
    {
     "data": {
      "text/plain": [
       "(6, 6, 16, 128)"
      ]
     },
     "execution_count": 10,
     "metadata": {},
     "output_type": "execute_result"
    }
   ],
   "source": [
    "weigths[2].shape"
   ]
  },
  {
   "cell_type": "code",
   "execution_count": 12,
   "metadata": {},
   "outputs": [
    {
     "data": {
      "text/plain": [
       "2075968"
      ]
     },
     "execution_count": 12,
     "metadata": {},
     "output_type": "execute_result"
    }
   ],
   "source": [
    "160*160*16+\\\n",
    "+78*78*128+\\\n",
    "+76*76*64+\\\n",
    "+74*74*64+\\\n",
    "+35*35*64+\\\n",
    "+33*33*64+\\\n",
    "+11*11*64+\\\n",
    "+8*8*26+\\\n",
    "+8*8*26+\\\n",
    "+8*8*26+\\\n",
    "+8*8*26+\\\n",
    "+8*8*26+\\\n",
    "+8*8*26+\\\n",
    "+8*8*26"
   ]
  },
  {
   "cell_type": "code",
   "execution_count": 13,
   "metadata": {},
   "outputs": [
    {
     "data": {
      "text/plain": [
       "4309643137024"
      ]
     },
     "execution_count": 13,
     "metadata": {},
     "output_type": "execute_result"
    }
   ],
   "source": [
    "2075968*2075968"
   ]
  },
  {
   "cell_type": "code",
   "execution_count": 15,
   "metadata": {},
   "outputs": [
    {
     "data": {
      "text/plain": [
       "0.09893754048007745"
      ]
     },
     "execution_count": 15,
     "metadata": {},
     "output_type": "execute_result"
    }
   ],
   "source": [
    "652982*652982/4309643137024"
   ]
  },
  {
   "cell_type": "code",
   "execution_count": 16,
   "metadata": {},
   "outputs": [
    {
     "data": {
      "text/plain": [
       "0.31454338409840615"
      ]
     },
     "execution_count": 16,
     "metadata": {},
     "output_type": "execute_result"
    }
   ],
   "source": [
    "652982/2075968"
   ]
  },
  {
   "cell_type": "code",
   "execution_count": null,
   "metadata": {},
   "outputs": [],
   "source": []
  }
 ],
 "metadata": {
  "kernelspec": {
   "display_name": "Python [conda env:PythonGPU] *",
   "language": "python",
   "name": "conda-env-PythonGPU-py"
  },
  "language_info": {
   "codemirror_mode": {
    "name": "ipython",
    "version": 3
   },
   "file_extension": ".py",
   "mimetype": "text/x-python",
   "name": "python",
   "nbconvert_exporter": "python",
   "pygments_lexer": "ipython3",
   "version": "3.7.4"
  }
 },
 "nbformat": 4,
 "nbformat_minor": 2
}
