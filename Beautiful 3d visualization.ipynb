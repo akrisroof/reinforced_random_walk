{
 "cells": [
  {
   "cell_type": "code",
   "execution_count": 9,
   "metadata": {},
   "outputs": [],
   "source": [
    "\n",
    "import numpy as np\n",
    "import pandas as pd\n",
    "from pyntcloud import PyntCloud"
   ]
  },
  {
   "cell_type": "code",
   "execution_count": 103,
   "metadata": {},
   "outputs": [
    {
     "name": "stdout",
     "output_type": "stream",
     "text": [
      "[ 3. -3.] : 19067475\n",
      "Wall time: 40min 25s\n"
     ]
    }
   ],
   "source": [
    "%%time\n",
    "import numpy as np\n",
    "np.set_printoptions(precision=3)\n",
    "def simulate(aa, bb, N=2000):\n",
    "    w = np.array([0, 1, 0], dtype = np.int32)\n",
    "    s = np.array([0, -1, 0], dtype = np.int32)\n",
    "    d = np.array([1, 0, 0], dtype = np.int32)\n",
    "    a = np.array([-1, 0, 0], dtype = np.int32)\n",
    "    e = np.array([0, 0, 1], dtype = np.int32)\n",
    "    q = np.array([0, 0, -1], dtype = np.int32)\n",
    "\n",
    "    class NDSparseLattice:\n",
    "        def __init__(self):\n",
    "            self.elements = {}\n",
    "\n",
    "        def addValue(self, tuple, value):\n",
    "            self.elements[tuple] = value\n",
    "\n",
    "        def readValue(self, tuple):\n",
    "            try:\n",
    "                value = self.elements[tuple]\n",
    "            except KeyError:\n",
    "                # could also be 0.0 if using floats...\n",
    "                value = 1\n",
    "            return value\n",
    "\n",
    "    def get_near(lattice, pos):\n",
    "        n_w = lattice.readValue((pos[0], pos[1]+1, pos[2]))\n",
    "        n_s = lattice.readValue((pos[0], pos[1]-1, pos[2]))\n",
    "        n_d = lattice.readValue((pos[0]+1, pos[1], pos[2]))\n",
    "        n_a = lattice.readValue((pos[0]-1, pos[1], pos[2]))\n",
    "        n_e = lattice.readValue((pos[0], pos[1], pos[2]+1))\n",
    "        n_q = lattice.readValue((pos[0], pos[1], pos[2]-1))\n",
    "        return [n_w, n_s, n_d, n_a, n_e, n_q]\n",
    "\n",
    "    def number_of_zero_neib(lattice, pos):\n",
    "        if lattice.readValue((pos[0], pos[1], pos[2])) == 0:\n",
    "            return 0\n",
    "        else:\n",
    "            count = 0\n",
    "            array = get_near(lattice, pos)\n",
    "            for item in array:\n",
    "                if item == 0:\n",
    "                    count = count+1\n",
    "            return count+1\n",
    "\n",
    "    def update_lattice(lattice, pos):\n",
    "        lattice.addValue((pos[0], pos[1], pos[2]), 0)\n",
    "        lattice.addValue((pos[0], pos[1]+1, pos[2]), number_of_zero_neib(lattice, pos+w))\n",
    "        lattice.addValue((pos[0], pos[1]-1, pos[2]), number_of_zero_neib(lattice, pos+s))\n",
    "        lattice.addValue((pos[0]+1, pos[1], pos[2]), number_of_zero_neib(lattice, pos+d))\n",
    "        lattice.addValue((pos[0]-1, pos[1], pos[2]), number_of_zero_neib(lattice, pos+a))\n",
    "        lattice.addValue((pos[0], pos[1], pos[2]+1), number_of_zero_neib(lattice, pos+e))\n",
    "        lattice.addValue((pos[0], pos[1], pos[2]-1), number_of_zero_neib(lattice, pos+q))\n",
    "        return lattice\n",
    "\n",
    "\n",
    "    def weight(x, aa, bb):\n",
    "        if x==0:\n",
    "            return aa\n",
    "        elif x==2:\n",
    "            return 1\n",
    "        elif x==1:\n",
    "            print('Error')\n",
    "            raise TypeError\n",
    "        else:\n",
    "            return bb\n",
    "\n",
    "    def get_prob(lattice, pos, aa, bb):\n",
    "        near = get_near(lattice, pos)\n",
    "        norm = sum(near)\n",
    "        probs = [weight(_, aa, bb) for _ in near]\n",
    "        norm = sum(probs)\n",
    "        probs_normed = [_/norm for _ in probs]\n",
    "        return probs_normed\n",
    "\n",
    "    def get_next_pos():\n",
    "        symbol = np.random.choice(['w', 's', 'd', 'a', 'e', 'q'], p = get_prob(lattice, pos, aa, bb))\n",
    "        if symbol == 'w':\n",
    "            return w\n",
    "        if symbol == 's':\n",
    "            return s\n",
    "        if symbol == 'd':\n",
    "            return d\n",
    "        if symbol == 'a':\n",
    "            return a\n",
    "        if symbol == 'e':\n",
    "            return e\n",
    "        if symbol == 'q':\n",
    "            return q\n",
    "\n",
    "\n",
    "    lattice = NDSparseLattice()\n",
    "    pos = np.array([0,0,0], dtype=np.int32)\n",
    "    lattice = update_lattice(lattice, pos)\n",
    "    #visited\n",
    "    \n",
    "    from progressbar import ProgressBar\n",
    "    pbar = ProgressBar()\n",
    "    \n",
    "    #for _ in pbar(range(N)):\n",
    "    #    #visited.append(list(pos))\n",
    "    #    pos = pos +  get_next_pos()\n",
    "    #    lattice = update_lattice(lattice, pos)\n",
    "    cnt = 0\n",
    "    while len(lattice.elements)<N:\n",
    "        pos = pos +  get_next_pos()\n",
    "        lattice = update_lattice(lattice, pos)\n",
    "        cnt += 1\n",
    "    np.set_printoptions(precision=3)\n",
    "    print(np.array([np.log(aa), np.log(bb)]), ':', cnt)\n",
    "    return lattice, cnt, np.log(aa), np.log(bb)\n",
    "\n",
    "def simulate_vector(vector, N=2000):\n",
    "    return simulate(vector[0], vector[1], N=N)\n",
    "\n",
    "\n",
    "lat, cnt, aa, bb = simulate_vector([np.exp(3), np.exp(-3)], N=1000000)"
   ]
  },
  {
   "cell_type": "code",
   "execution_count": 104,
   "metadata": {},
   "outputs": [],
   "source": [
    "coords = list(lat.elements.keys())\n",
    "vals = list(lat.elements.values())\n",
    "coords = [list(coords[_]) for _ in range(len(coords)) if (vals[_] != 1)]\n",
    "import numpy as np\n",
    "coords = np.array(coords)"
   ]
  },
  {
   "cell_type": "code",
   "execution_count": 105,
   "metadata": {},
   "outputs": [
    {
     "data": {
      "text/plain": [
       "array([[   0,    0,    0],\n",
       "       [   0,    1,    0],\n",
       "       [   0,   -1,    0],\n",
       "       ...,\n",
       "       [ 142,  101, -259],\n",
       "       [ 141,  102, -259],\n",
       "       [ 142,  102, -258]])"
      ]
     },
     "execution_count": 105,
     "metadata": {},
     "output_type": "execute_result"
    }
   ],
   "source": [
    "coords"
   ]
  },
  {
   "cell_type": "code",
   "execution_count": 106,
   "metadata": {},
   "outputs": [
    {
     "data": {
      "text/plain": [
       "292"
      ]
     },
     "execution_count": 106,
     "metadata": {},
     "output_type": "execute_result"
    }
   ],
   "source": [
    "np.max(np.abs(coords))"
   ]
  },
  {
   "cell_type": "code",
   "execution_count": 107,
   "metadata": {},
   "outputs": [],
   "source": [
    "positions = np.random.rand(1000, 3) * 10\n",
    "positions -= positions.mean(0)\n",
    "\n",
    "points = pd.DataFrame(\n",
    "    coords.astype(np.float32), \n",
    "    columns=['x', 'y', 'z'])\n",
    "\n",
    "max_dist = np.max(np.abs(coords))\n",
    "\n",
    "points[\"red\"] = ((coords[:,0]*90)//max_dist - 255//2).astype(np.uint8)\n",
    "points[\"green\"] = ((coords[:,1]*90)//max_dist - 255//2).astype(np.uint8)\n",
    "points[\"blue\"] = ((coords[:,2]*90)//max_dist - 255//2).astype(np.uint8)\n",
    "\n",
    "cloud = PyntCloud(points)"
   ]
  },
  {
   "cell_type": "code",
   "execution_count": 109,
   "metadata": {},
   "outputs": [],
   "source": [
    "k_neighbors = cloud.get_neighbors(k=350)"
   ]
  },
  {
   "cell_type": "code",
   "execution_count": 110,
   "metadata": {},
   "outputs": [],
   "source": [
    "eigenvalues = cloud.add_scalar_field(\n",
    "    \"eigen_values\", \n",
    "    k_neighbors=k_neighbors)"
   ]
  },
  {
   "cell_type": "code",
   "execution_count": 111,
   "metadata": {},
   "outputs": [],
   "source": [
    "curvature = cloud.add_scalar_field(\"curvature\", ev=eigenvalues)"
   ]
  },
  {
   "cell_type": "code",
   "execution_count": 113,
   "metadata": {},
   "outputs": [
    {
     "data": {
      "application/vnd.jupyter.widget-view+json": {
       "model_id": "5894c212bace4be18da733fa8607d308",
       "version_major": 2,
       "version_minor": 0
      },
      "text/plain": [
       "Renderer(camera=PerspectiveCamera(aspect=1.6, fov=90.0, position=(47.650177001953125, 198.1258087158203, 12.90…"
      ]
     },
     "metadata": {},
     "output_type": "display_data"
    },
    {
     "data": {
      "application/vnd.jupyter.widget-view+json": {
       "model_id": "755220d931e3484ba2112c7247b42aec",
       "version_major": 2,
       "version_minor": 0
      },
      "text/plain": [
       "HBox(children=(Label(value='Point size:'), FloatSlider(value=43.7, max=437.0, step=0.43700000000000006), Label…"
      ]
     },
     "metadata": {},
     "output_type": "display_data"
    }
   ],
   "source": [
    "cloud.plot(use_as_color=curvature, cmap=\"plasma\", backend='pythreejs')"
   ]
  },
  {
   "cell_type": "code",
   "execution_count": 114,
   "metadata": {},
   "outputs": [],
   "source": [
    "sphericity = cloud.add_scalar_field(\"sphericity\", ev=eigenvalues)"
   ]
  },
  {
   "cell_type": "code",
   "execution_count": 115,
   "metadata": {},
   "outputs": [
    {
     "data": {
      "application/vnd.jupyter.widget-view+json": {
       "model_id": "0668d16d4aa44bce9633f02b06ac222e",
       "version_major": 2,
       "version_minor": 0
      },
      "text/plain": [
       "Renderer(camera=PerspectiveCamera(aspect=1.6, fov=90.0, position=(47.650177001953125, 198.1258087158203, 12.90…"
      ]
     },
     "metadata": {},
     "output_type": "display_data"
    },
    {
     "data": {
      "application/vnd.jupyter.widget-view+json": {
       "model_id": "ab1c15ff3b4e44769ffdf67b96d5c0c2",
       "version_major": 2,
       "version_minor": 0
      },
      "text/plain": [
       "HBox(children=(Label(value='Point size:'), FloatSlider(value=43.7, max=437.0, step=0.43700000000000006), Label…"
      ]
     },
     "metadata": {},
     "output_type": "display_data"
    }
   ],
   "source": [
    "cloud.plot(use_as_color=sphericity, cmap=\"plasma\")"
   ]
  },
  {
   "cell_type": "code",
   "execution_count": 108,
   "metadata": {},
   "outputs": [
    {
     "data": {
      "application/vnd.jupyter.widget-view+json": {
       "model_id": "6d4d5cc0bc1c4e7eb615639036c33e1d",
       "version_major": 2,
       "version_minor": 0
      },
      "text/plain": [
       "Renderer(camera=PerspectiveCamera(aspect=1.6, fov=90.0, position=(47.650177001953125, 198.1258087158203, 12.90…"
      ]
     },
     "metadata": {},
     "output_type": "display_data"
    },
    {
     "data": {
      "application/vnd.jupyter.widget-view+json": {
       "model_id": "0a66b7a057ed42faac0f68459e829661",
       "version_major": 2,
       "version_minor": 0
      },
      "text/plain": [
       "HBox(children=(Label(value='Point size:'), FloatSlider(value=43.7, max=437.0, step=0.43700000000000006), Label…"
      ]
     },
     "metadata": {},
     "output_type": "display_data"
    }
   ],
   "source": [
    "cloud.plot(mesh=False, backend=\"pythreejs\", elev=130.0, azim=120.0, cmap='plasma')"
   ]
  },
  {
   "cell_type": "code",
   "execution_count": null,
   "metadata": {},
   "outputs": [],
   "source": []
  },
  {
   "cell_type": "code",
   "execution_count": 102,
   "metadata": {},
   "outputs": [
    {
     "data": {
      "application/vnd.jupyter.widget-view+json": {
       "model_id": "4d31f04f94954b168ca5a6e5fea1d17f",
       "version_major": 2,
       "version_minor": 0
      },
      "text/plain": [
       "Renderer(camera=PerspectiveCamera(aspect=1.6, fov=90.0, position=(-9.917013168334961, 419.87032318115234, -314…"
      ]
     },
     "metadata": {},
     "output_type": "display_data"
    },
    {
     "data": {
      "application/vnd.jupyter.widget-view+json": {
       "model_id": "e0da5ea0eaa044dfaba11254a2d43d17",
       "version_major": 2,
       "version_minor": 0
      },
      "text/plain": [
       "HBox(children=(Label(value='Point size:'), FloatSlider(value=88.7, max=887.0, step=0.887), Label(value='Backgr…"
      ]
     },
     "metadata": {},
     "output_type": "display_data"
    }
   ],
   "source": [
    "cloud.plot(mesh=False, backend=\"pythreejs\", elev=130.0, azim=120.0, cmap='plasma')"
   ]
  },
  {
   "cell_type": "code",
   "execution_count": null,
   "metadata": {},
   "outputs": [],
   "source": []
  },
  {
   "cell_type": "code",
   "execution_count": null,
   "metadata": {},
   "outputs": [],
   "source": []
  },
  {
   "cell_type": "code",
   "execution_count": 96,
   "metadata": {},
   "outputs": [
    {
     "data": {
      "application/vnd.jupyter.widget-view+json": {
       "model_id": "8c488b544cf34159bfc563879d1c22f1",
       "version_major": 2,
       "version_minor": 0
      },
      "text/plain": [
       "Renderer(camera=PerspectiveCamera(aspect=1.6, fov=90.0, position=(-28.35145378112793, 36.00948715209961, 10.89…"
      ]
     },
     "metadata": {},
     "output_type": "display_data"
    },
    {
     "data": {
      "application/vnd.jupyter.widget-view+json": {
       "model_id": "122375e451cf456f99f9446c9dc1c1bf",
       "version_major": 2,
       "version_minor": 0
      },
      "text/plain": [
       "HBox(children=(Label(value='Point size:'), FloatSlider(value=27.0, max=270.0, step=0.27), Label(value='Backgro…"
      ]
     },
     "metadata": {},
     "output_type": "display_data"
    }
   ],
   "source": [
    "cloud.plot(mesh=False, backend=\"pythreejs\", elev=130.0, azim=120.0, cmap='plasma')"
   ]
  },
  {
   "cell_type": "code",
   "execution_count": 89,
   "metadata": {},
   "outputs": [
    {
     "data": {
      "application/vnd.jupyter.widget-view+json": {
       "model_id": "9ef5a2e575044630ad57899c34873391",
       "version_major": 2,
       "version_minor": 0
      },
      "text/plain": [
       "Renderer(camera=PerspectiveCamera(aspect=1.6, fov=90.0, position=(-205.6302490234375, 425.5820617675781, -99.7…"
      ]
     },
     "metadata": {},
     "output_type": "display_data"
    },
    {
     "data": {
      "application/vnd.jupyter.widget-view+json": {
       "model_id": "014f35c87a6c4885a67dc01cdcf0ee89",
       "version_major": 2,
       "version_minor": 0
      },
      "text/plain": [
       "HBox(children=(Label(value='Point size:'), FloatSlider(value=81.3, max=813.0, step=0.813), Label(value='Backgr…"
      ]
     },
     "metadata": {},
     "output_type": "display_data"
    }
   ],
   "source": [
    "cloud.plot(mesh=False, backend=\"pythreejs\", elev=130.0, azim=120.0, cmap='plasma')"
   ]
  },
  {
   "cell_type": "code",
   "execution_count": 82,
   "metadata": {},
   "outputs": [
    {
     "data": {
      "application/vnd.jupyter.widget-view+json": {
       "model_id": "6965527f891a4efeb0034e6568a5f277",
       "version_major": 2,
       "version_minor": 0
      },
      "text/plain": [
       "Renderer(camera=PerspectiveCamera(aspect=1.6, fov=90.0, position=(-216.8092498779297, 297.9936828613281, -463.…"
      ]
     },
     "metadata": {},
     "output_type": "display_data"
    },
    {
     "data": {
      "application/vnd.jupyter.widget-view+json": {
       "model_id": "d95b0d8a91fa4e3faaac358577114c5b",
       "version_major": 2,
       "version_minor": 0
      },
      "text/plain": [
       "HBox(children=(Label(value='Point size:'), FloatSlider(value=130.8, max=1308.0, step=1.308), Label(value='Back…"
      ]
     },
     "metadata": {},
     "output_type": "display_data"
    }
   ],
   "source": [
    "cloud.plot(mesh=False, backend=\"pythreejs\", elev=130.0, azim=120.0, cmap='plasma')"
   ]
  },
  {
   "cell_type": "code",
   "execution_count": 40,
   "metadata": {},
   "outputs": [],
   "source": [
    "fig"
   ]
  },
  {
   "cell_type": "code",
   "execution_count": 18,
   "metadata": {},
   "outputs": [
    {
     "data": {
      "text/html": [
       "<div>\n",
       "<style scoped>\n",
       "    .dataframe tbody tr th:only-of-type {\n",
       "        vertical-align: middle;\n",
       "    }\n",
       "\n",
       "    .dataframe tbody tr th {\n",
       "        vertical-align: top;\n",
       "    }\n",
       "\n",
       "    .dataframe thead th {\n",
       "        text-align: right;\n",
       "    }\n",
       "</style>\n",
       "<table border=\"1\" class=\"dataframe\">\n",
       "  <thead>\n",
       "    <tr style=\"text-align: right;\">\n",
       "      <th></th>\n",
       "      <th>x</th>\n",
       "      <th>y</th>\n",
       "      <th>z</th>\n",
       "      <th>red</th>\n",
       "      <th>green</th>\n",
       "      <th>blue</th>\n",
       "    </tr>\n",
       "  </thead>\n",
       "  <tbody>\n",
       "    <tr>\n",
       "      <th>0</th>\n",
       "      <td>0.506345</td>\n",
       "      <td>0.774733</td>\n",
       "      <td>-2.201511</td>\n",
       "      <td>45</td>\n",
       "      <td>24</td>\n",
       "      <td>42</td>\n",
       "    </tr>\n",
       "    <tr>\n",
       "      <th>1</th>\n",
       "      <td>-4.346781</td>\n",
       "      <td>3.903501</td>\n",
       "      <td>-0.295702</td>\n",
       "      <td>27</td>\n",
       "      <td>9</td>\n",
       "      <td>82</td>\n",
       "    </tr>\n",
       "    <tr>\n",
       "      <th>2</th>\n",
       "      <td>-3.942817</td>\n",
       "      <td>-2.770571</td>\n",
       "      <td>-3.761680</td>\n",
       "      <td>78</td>\n",
       "      <td>240</td>\n",
       "      <td>237</td>\n",
       "    </tr>\n",
       "    <tr>\n",
       "      <th>3</th>\n",
       "      <td>0.770353</td>\n",
       "      <td>1.731843</td>\n",
       "      <td>1.111662</td>\n",
       "      <td>246</td>\n",
       "      <td>146</td>\n",
       "      <td>206</td>\n",
       "    </tr>\n",
       "    <tr>\n",
       "      <th>4</th>\n",
       "      <td>1.662170</td>\n",
       "      <td>1.487582</td>\n",
       "      <td>4.309238</td>\n",
       "      <td>67</td>\n",
       "      <td>103</td>\n",
       "      <td>49</td>\n",
       "    </tr>\n",
       "    <tr>\n",
       "      <th>...</th>\n",
       "      <td>...</td>\n",
       "      <td>...</td>\n",
       "      <td>...</td>\n",
       "      <td>...</td>\n",
       "      <td>...</td>\n",
       "      <td>...</td>\n",
       "    </tr>\n",
       "    <tr>\n",
       "      <th>995</th>\n",
       "      <td>-2.755202</td>\n",
       "      <td>-4.137967</td>\n",
       "      <td>0.252708</td>\n",
       "      <td>123</td>\n",
       "      <td>17</td>\n",
       "      <td>0</td>\n",
       "    </tr>\n",
       "    <tr>\n",
       "      <th>996</th>\n",
       "      <td>2.030230</td>\n",
       "      <td>1.355620</td>\n",
       "      <td>2.622153</td>\n",
       "      <td>47</td>\n",
       "      <td>211</td>\n",
       "      <td>146</td>\n",
       "    </tr>\n",
       "    <tr>\n",
       "      <th>997</th>\n",
       "      <td>-3.230269</td>\n",
       "      <td>-0.694178</td>\n",
       "      <td>0.355820</td>\n",
       "      <td>31</td>\n",
       "      <td>190</td>\n",
       "      <td>173</td>\n",
       "    </tr>\n",
       "    <tr>\n",
       "      <th>998</th>\n",
       "      <td>-4.950685</td>\n",
       "      <td>-3.728886</td>\n",
       "      <td>0.404361</td>\n",
       "      <td>227</td>\n",
       "      <td>109</td>\n",
       "      <td>204</td>\n",
       "    </tr>\n",
       "    <tr>\n",
       "      <th>999</th>\n",
       "      <td>4.404853</td>\n",
       "      <td>-3.612690</td>\n",
       "      <td>1.530813</td>\n",
       "      <td>155</td>\n",
       "      <td>60</td>\n",
       "      <td>199</td>\n",
       "    </tr>\n",
       "  </tbody>\n",
       "</table>\n",
       "<p>1000 rows × 6 columns</p>\n",
       "</div>"
      ],
      "text/plain": [
       "            x         y         z  red  green  blue\n",
       "0    0.506345  0.774733 -2.201511   45     24    42\n",
       "1   -4.346781  3.903501 -0.295702   27      9    82\n",
       "2   -3.942817 -2.770571 -3.761680   78    240   237\n",
       "3    0.770353  1.731843  1.111662  246    146   206\n",
       "4    1.662170  1.487582  4.309238   67    103    49\n",
       "..        ...       ...       ...  ...    ...   ...\n",
       "995 -2.755202 -4.137967  0.252708  123     17     0\n",
       "996  2.030230  1.355620  2.622153   47    211   146\n",
       "997 -3.230269 -0.694178  0.355820   31    190   173\n",
       "998 -4.950685 -3.728886  0.404361  227    109   204\n",
       "999  4.404853 -3.612690  1.530813  155     60   199\n",
       "\n",
       "[1000 rows x 6 columns]"
      ]
     },
     "execution_count": 18,
     "metadata": {},
     "output_type": "execute_result"
    }
   ],
   "source": [
    "import pandas as pd\n",
    "\n",
    "points = pd.DataFrame(\n",
    "    positions.astype(np.float32), \n",
    "    columns=['x', 'y', 'z'])\n",
    "\n",
    "points[\"red\"] = (np.random.rand(1000) * 255).astype(np.uint8)\n",
    "points[\"green\"] = (np.random.rand(1000) * 255).astype(np.uint8)\n",
    "points[\"blue\"] = (np.random.rand(1000) * 255).astype(np.uint8)"
   ]
  },
  {
   "cell_type": "code",
   "execution_count": null,
   "metadata": {},
   "outputs": [],
   "source": []
  }
 ],
 "metadata": {
  "kernelspec": {
   "display_name": "Python [conda env:PythonGPU] *",
   "language": "python",
   "name": "conda-env-PythonGPU-py"
  },
  "language_info": {
   "codemirror_mode": {
    "name": "ipython",
    "version": 3
   },
   "file_extension": ".py",
   "mimetype": "text/x-python",
   "name": "python",
   "nbconvert_exporter": "python",
   "pygments_lexer": "ipython3",
   "version": "3.7.4"
  }
 },
 "nbformat": 4,
 "nbformat_minor": 2
}
